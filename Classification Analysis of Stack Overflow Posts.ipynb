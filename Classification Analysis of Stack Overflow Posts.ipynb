{
 "cells": [
  {
   "cell_type": "markdown",
   "metadata": {},
   "source": [
    "# Predict quality of Stack Overflow questions\n",
    "\n",
    "* Sylvie Fan\n",
    "* For this project, I will try to classify into three classes:\n",
    "    * must be closed\n",
    "    * must be edited\n",
    "    * high-quality\n",
    "* Based on results of several models, the model achieved 92.65% accuracy."
   ]
  },
  {
   "cell_type": "markdown",
   "metadata": {},
   "source": [
    "# Import all libraries"
   ]
  },
  {
   "cell_type": "code",
   "execution_count": 1,
   "metadata": {},
   "outputs": [],
   "source": [
    "import numpy as np # linear algebra\n",
    "import pandas as pd # data processing, CSV file I/O (e.g. pd.read_csv)\n",
    "\n",
    "import matplotlib.pyplot as plt\n",
    "\n",
    "import re\n",
    "from tqdm import tqdm\n",
    "\n",
    "from nltk.corpus import stopwords \n",
    "from nltk.tokenize import word_tokenize \n",
    "from nltk.stem.snowball import SnowballStemmer\n",
    "\n",
    "import xgboost as xgb\n",
    "from xgboost import XGBClassifier\n",
    "from sklearn.neighbors import KNeighborsClassifier\n",
    "from sklearn.feature_extraction.text import TfidfVectorizer\n",
    "from sklearn import preprocessing, decomposition, model_selection, metrics, pipeline\n",
    "from sklearn.model_selection import GridSearchCV\n",
    "from sklearn.feature_extraction.text import TfidfVectorizer, CountVectorizer\n",
    "from sklearn.decomposition import TruncatedSVD\n",
    "from sklearn.linear_model import LogisticRegression\n",
    "from sklearn.model_selection import train_test_split\n",
    "from sklearn.naive_bayes import MultinomialNB\n",
    "from sklearn.svm import SVC\n",
    "from sklearn.metrics import multilabel_confusion_matrix, accuracy_score, f1_score\n",
    "import scipy.sparse as sp\n",
    "import pyrsm as rsm\n",
    "from sklearn.metrics import plot_confusion_matrix"
   ]
  },
  {
   "cell_type": "code",
   "execution_count": 2,
   "metadata": {},
   "outputs": [],
   "source": [
    "pd.set_option(\"display.max_rows\", None) \n",
    "  "
   ]
  },
  {
   "cell_type": "markdown",
   "metadata": {},
   "source": [
    "# 1. EDA"
   ]
  },
  {
   "cell_type": "code",
   "execution_count": 3,
   "metadata": {},
   "outputs": [],
   "source": [
    "## Analysis Of Tags"
   ]
  },
  {
   "cell_type": "code",
   "execution_count": 4,
   "metadata": {
    "_cell_guid": "79c7e3d0-c299-4dcb-8224-4455121ee9b0",
    "_uuid": "d629ff2d2480ee46fbb7e2d37f6b5fab8052498a"
   },
   "outputs": [],
   "source": [
    "data1 = pd.read_csv(\"train.csv\")"
   ]
  },
  {
   "cell_type": "markdown",
   "metadata": {},
   "source": [
    "\n",
    "labels = ['Open Questions', 'Low Quality Question - Close', 'Low Quality Question - Edit']\n",
    "values = [len(data1[data1['Y'] == 2]), len(data1[data1['Y'] == 0]), len(data1[data1['Y'] == 1])]\n",
    "plt.figure(figsize=(16, 9))\n",
    "plt.pie(x=values, labels=labels, autopct=\"%1.1f%%\")\n",
    "plt.title(\"Label Distribution\")\n",
    "plt.show()"
   ]
  },
  {
   "cell_type": "code",
   "execution_count": 5,
   "metadata": {},
   "outputs": [],
   "source": [
    "def replace_punct(text):\n",
    "    text = text.replace(\"><\",\",\")\n",
    "    text = text.replace(\"<\",\"\")\n",
    "    text = text.replace(\">\",\"\")\n",
    "    return text\n",
    "\n",
    "data1['Tags_cleaned'] = data1['Tags'].apply(replace_punct)"
   ]
  },
  {
   "cell_type": "code",
   "execution_count": 6,
   "metadata": {},
   "outputs": [],
   "source": [
    "def tags_explore(tagname):\n",
    "    index = data1['Tags_cleaned'].str.contains(tagname)\n",
    "    cdf = data1.loc[index,:]\n",
    "    return cdf.Y.value_counts()"
   ]
  },
  {
   "cell_type": "code",
   "execution_count": 7,
   "metadata": {},
   "outputs": [],
   "source": [
    "tags_to_row = {}\n",
    "for i, row in enumerate(data1['Tags_cleaned'].tolist()):\n",
    "    for tag in row.split(\",\"):\n",
    "        if tag in tags_to_row:\n",
    "            tags_to_row[tag].append(i)\n",
    "        else:\n",
    "            tags_to_row[tag] = [i]\n",
    "tags_to_Y  = {tag: data1.loc[row_indices, 'Y'].value_counts() for tag, row_indices in tags_to_row.items()}\n",
    "\n",
    "tag_df = pd.DataFrame(tags_to_Y).T\n"
   ]
  },
  {
   "cell_type": "code",
   "execution_count": 8,
   "metadata": {},
   "outputs": [
    {
     "name": "stderr",
     "output_type": "stream",
     "text": [
      "<ipython-input-8-6f3c9b443d33>:2: SettingWithCopyWarning: \n",
      "A value is trying to be set on a copy of a slice from a DataFrame.\n",
      "Try using .loc[row_indexer,col_indexer] = value instead\n",
      "\n",
      "See the caveats in the documentation: https://pandas.pydata.org/pandas-docs/stable/user_guide/indexing.html#returning-a-view-versus-a-copy\n",
      "  filter_tagdf['total'] = filter_tagdf.sum(axis=1)\n",
      "<ipython-input-8-6f3c9b443d33>:3: SettingWithCopyWarning: \n",
      "A value is trying to be set on a copy of a slice from a DataFrame.\n",
      "Try using .loc[row_indexer,col_indexer] = value instead\n",
      "\n",
      "See the caveats in the documentation: https://pandas.pydata.org/pandas-docs/stable/user_guide/indexing.html#returning-a-view-versus-a-copy\n",
      "  filter_tagdf['HQratio'] = filter_tagdf['HQ'] / filter_tagdf['total']\n"
     ]
    }
   ],
   "source": [
    "filter_tagdf = tag_df.loc[tag_df.sum(axis=1) >= 1000,:]\n",
    "filter_tagdf['total'] = filter_tagdf.sum(axis=1)\n",
    "filter_tagdf['HQratio'] = filter_tagdf['HQ'] / filter_tagdf['total']"
   ]
  },
  {
   "cell_type": "code",
   "execution_count": 9,
   "metadata": {},
   "outputs": [
    {
     "data": {
      "text/plain": [
       "<AxesSubplot:>"
      ]
     },
     "execution_count": 9,
     "metadata": {},
     "output_type": "execute_result"
    },
    {
     "data": {
      "image/png": "[encoded data removed]",
      "text/plain": [
       "<Figure size 432x288 with 1 Axes>"
      ]
     },
     "metadata": {
      "needs_background": "light"
     },
     "output_type": "display_data"
    }
   ],
   "source": [
    "filter_tagdf['HQratio'].sort_values()[::-1].plot.bar()"
   ]
  },
  {
   "cell_type": "code",
   "execution_count": 10,
   "metadata": {},
   "outputs": [],
   "source": [
    "data1.CreationDate = data1.CreationDate.astype('datetime64[ns]')\n",
    "data1['year'] = data1.CreationDate.dt.year"
   ]
  },
  {
   "cell_type": "code",
   "execution_count": 11,
   "metadata": {},
   "outputs": [
    {
     "data": {
      "text/plain": [
       "<AxesSubplot:xlabel='year', ylabel='count'>"
      ]
     },
     "execution_count": 11,
     "metadata": {},
     "output_type": "execute_result"
    },
    {
     "data": {
      "image/png": "[encoded data removed]",
      "text/plain": [
       "<Figure size 432x288 with 1 Axes>"
      ]
     },
     "metadata": {
      "needs_background": "light"
     },
     "output_type": "display_data"
    }
   ],
   "source": [
    "import seaborn as sns\n",
    "sns.countplot(x = 'year', data = data1)"
   ]
  },
  {
   "cell_type": "code",
   "execution_count": 12,
   "metadata": {},
   "outputs": [
    {
     "data": {
      "text/plain": [
       "Y\n",
       "HQ          15000\n",
       "LQ_CLOSE    15000\n",
       "LQ_EDIT     15000\n",
       "Name: Id, dtype: int64"
      ]
     },
     "execution_count": 12,
     "metadata": {},
     "output_type": "execute_result"
    }
   ],
   "source": [
    "data1.groupby('Y')['Id'].count()"
   ]
  },
  {
   "cell_type": "code",
   "execution_count": 13,
   "metadata": {},
   "outputs": [],
   "source": [
    "test = pd.read_csv(\"valid.csv\")"
   ]
  },
  {
   "cell_type": "code",
   "execution_count": 14,
   "metadata": {},
   "outputs": [
    {
     "data": {
      "text/plain": [
       "Y\n",
       "HQ          5000\n",
       "LQ_CLOSE    5000\n",
       "LQ_EDIT     5000\n",
       "Name: Id, dtype: int64"
      ]
     },
     "execution_count": 14,
     "metadata": {},
     "output_type": "execute_result"
    }
   ],
   "source": [
    "test.groupby('Y')['Id'].count()"
   ]
  },
  {
   "cell_type": "code",
   "execution_count": 15,
   "metadata": {},
   "outputs": [],
   "source": [
    "data1['Y'] = data1['Y'].map({'LQ_CLOSE':0, 'LQ_EDIT': 1, 'HQ':2})"
   ]
  },
  {
   "cell_type": "markdown",
   "metadata": {},
   "source": [
    "# 2. Make features with Title + Body"
   ]
  },
  {
   "cell_type": "code",
   "execution_count": 16,
   "metadata": {},
   "outputs": [],
   "source": [
    "data2 = data1.drop(['Tags', 'CreationDate','Tags_cleaned'], axis=1)\n",
    "data2['Body_with_title'] = data2['Title'] + \" \" + data2['Body']"
   ]
  },
  {
   "cell_type": "code",
   "execution_count": 17,
   "metadata": {},
   "outputs": [],
   "source": [
    "xtrain, xvalid, ytrain, yvalid = train_test_split(data2.drop(['Id','Title','Body','Y','year'],axis=1).values, data2['Y'].values, \n",
    "                                                  stratify=data2['Y'].values, \n",
    "                                                  random_state=42, \n",
    "                                                  test_size=0.2, shuffle=True)"
   ]
  },
  {
   "cell_type": "code",
   "execution_count": 18,
   "metadata": {},
   "outputs": [],
   "source": [
    "tfv = TfidfVectorizer(min_df=3,  max_features=None, \n",
    "            strip_accents='unicode', analyzer='word',token_pattern=r'\\w{1,}',\n",
    "            ngram_range=(1, 3), use_idf=1,smooth_idf=1,sublinear_tf=1,\n",
    "            stop_words = 'english')\n"
   ]
  },
  {
   "cell_type": "code",
   "execution_count": 19,
   "metadata": {},
   "outputs": [],
   "source": [
    "tfv.fit(list(xtrain[:,-1]))\n",
    "xtrain_tfv =  tfv.transform(xtrain[:,-1]) \n",
    "xvalid_tfv = tfv.transform(xvalid[:,-1])"
   ]
  },
  {
   "cell_type": "markdown",
   "metadata": {},
   "source": [
    "## Fit a simple Logistic regression Model "
   ]
  },
  {
   "cell_type": "code",
   "execution_count": 20,
   "metadata": {},
   "outputs": [],
   "source": [
    "# Fitting a simple Logistic Regression on TFIDF\n",
    "clf = LogisticRegression(max_iter=1000)\n",
    "clf.fit(xtrain_tfv, ytrain)\n",
    "predictions_tfv = clf.predict(xvalid_tfv)"
   ]
  },
  {
   "cell_type": "code",
   "execution_count": 21,
   "metadata": {},
   "outputs": [
    {
     "data": {
      "text/plain": [
       "array([[[5636,  364],\n",
       "        [ 355, 2645]],\n",
       "\n",
       "       [[5958,   42],\n",
       "        [  21, 2979]],\n",
       "\n",
       "       [[5678,  322],\n",
       "        [ 352, 2648]]])"
      ]
     },
     "execution_count": 21,
     "metadata": {},
     "output_type": "execute_result"
    }
   ],
   "source": [
    "multilabel_confusion_matrix(yvalid, predictions_tfv)"
   ]
  },
  {
   "cell_type": "code",
   "execution_count": 22,
   "metadata": {},
   "outputs": [
    {
     "name": "stdout",
     "output_type": "stream",
     "text": [
      "0.9191111111111111\n",
      "0.9189949822745181\n",
      "0.9191111111111111\n"
     ]
    }
   ],
   "source": [
    "body_title_accuracy = accuracy_score(y_pred=predictions_tfv, y_true=yvalid)\n",
    "body_title_f1macro = f1_score(y_pred=predictions_tfv, y_true=yvalid, average=\"macro\")\n",
    "body_title_f1micro = f1_score(y_pred=predictions_tfv, y_true=yvalid, average=\"micro\")\n",
    "print(body_title_accuracy)\n",
    "print(body_title_f1macro)\n",
    "print(body_title_f1micro)"
   ]
  },
  {
   "cell_type": "markdown",
   "metadata": {},
   "source": [
    "# 3. Make features with Title + Body + Tags"
   ]
  },
  {
   "cell_type": "code",
   "execution_count": 23,
   "metadata": {},
   "outputs": [],
   "source": [
    "xtrain, xvalid, ytrain, yvalid = train_test_split(data1['Tags_cleaned'].values, data1['Y'].values, \n",
    "                                                  stratify=data1['Y'].values, \n",
    "                                                  random_state=42, \n",
    "                                                  test_size=0.2, shuffle=True)"
   ]
  },
  {
   "cell_type": "code",
   "execution_count": 24,
   "metadata": {},
   "outputs": [],
   "source": [
    "ctv = CountVectorizer(analyzer='word',token_pattern=r'\\w{1,}',\n",
    "            ngram_range=(1, 3), stop_words = 'english')\n",
    "\n",
    "# Fitting Count Vectorizer to both training and test sets (semi-supervised learning)\n",
    "ctv.fit(xtrain)\n",
    "xtrain_ctv =  ctv.transform(xtrain) \n",
    "xvalid_ctv = ctv.transform(xvalid)"
   ]
  },
  {
   "cell_type": "code",
   "execution_count": 25,
   "metadata": {},
   "outputs": [
    {
     "data": {
      "text/plain": [
       "(36000, 65307)"
      ]
     },
     "execution_count": 25,
     "metadata": {},
     "output_type": "execute_result"
    }
   ],
   "source": [
    "xtrain_ctv.shape"
   ]
  },
  {
   "cell_type": "code",
   "execution_count": 26,
   "metadata": {},
   "outputs": [],
   "source": [
    "# combine the matrix of body title and tags\n",
    "X_train = sp.hstack([xtrain_tfv, xtrain_ctv])\n",
    "X_valid = sp.hstack([xvalid_tfv, xvalid_ctv])"
   ]
  },
  {
   "cell_type": "markdown",
   "metadata": {},
   "source": [
    "## Fit a simple Logistic regression Model "
   ]
  },
  {
   "cell_type": "code",
   "execution_count": 27,
   "metadata": {},
   "outputs": [],
   "source": [
    "clf = LogisticRegression(max_iter=1000)\n",
    "clf.fit(X_train, ytrain)\n",
    "predictions_body_tag = clf.predict(X_valid)"
   ]
  },
  {
   "cell_type": "code",
   "execution_count": 28,
   "metadata": {},
   "outputs": [
    {
     "name": "stdout",
     "output_type": "stream",
     "text": [
      "0.9217777777777778\n",
      "0.9217200360809877\n",
      "0.9217777777777778\n"
     ]
    }
   ],
   "source": [
    "body_tag_accuracy = accuracy_score(y_pred=predictions_body_tag, y_true=yvalid)\n",
    "body_tag_f1_macro = f1_score(y_pred=predictions_body_tag, y_true=yvalid, average=\"macro\")\n",
    "body_tag_f1_micro = f1_score(y_pred=predictions_body_tag, y_true=yvalid, average=\"micro\")\n",
    "print(body_tag_accuracy)\n",
    "print(body_tag_f1_macro)\n",
    "\n",
    "print(body_tag_f1_micro)"
   ]
  },
  {
   "cell_type": "markdown",
   "metadata": {},
   "source": [
    "# best model valid on test data"
   ]
  },
  {
   "cell_type": "code",
   "execution_count": 29,
   "metadata": {},
   "outputs": [],
   "source": [
    "test['Tags_cleaned'] = test['Tags'].apply(replace_punct)\n",
    "test['Y'] = test['Y'].map({'LQ_CLOSE':0, 'LQ_EDIT': 1, 'HQ':2})\n",
    "test['Body_with_title'] = test['Title'] + \" \" + test['Body']"
   ]
  },
  {
   "cell_type": "code",
   "execution_count": 30,
   "metadata": {},
   "outputs": [],
   "source": [
    "X_test1 = test.drop(['Id','Title','Body','Y'],axis=1).values\n",
    "X_tfv = tfv.transform(X_test1[:,-1])"
   ]
  },
  {
   "cell_type": "code",
   "execution_count": 31,
   "metadata": {},
   "outputs": [],
   "source": [
    "X_test2 = test['Tags_cleaned'].values\n",
    "X_ctv = ctv.transform(X_test2)"
   ]
  },
  {
   "cell_type": "code",
   "execution_count": 32,
   "metadata": {},
   "outputs": [],
   "source": [
    "X_test = sp.hstack([X_tfv, X_ctv])\n",
    "y_test = test['Y'].values"
   ]
  },
  {
   "cell_type": "code",
   "execution_count": 33,
   "metadata": {},
   "outputs": [],
   "source": [
    "predictions_final = clf.predict(X_test)"
   ]
  },
  {
   "cell_type": "code",
   "execution_count": 34,
   "metadata": {},
   "outputs": [
    {
     "name": "stdout",
     "output_type": "stream",
     "text": [
      "0.9166\n",
      "0.9165637063363198\n",
      "0.9166\n"
     ]
    }
   ],
   "source": [
    "final_accuracy = accuracy_score(y_pred=predictions_final, y_true=y_test)\n",
    "final_f1_macro = f1_score(y_pred=predictions_final, y_true=y_test, average=\"macro\")\n",
    "final_f1_micro = f1_score(y_pred=predictions_final, y_true=y_test, average=\"micro\")\n",
    "print(final_accuracy)\n",
    "print(final_f1_macro)\n",
    "print(final_f1_micro)"
   ]
  },
  {
   "cell_type": "markdown",
   "metadata": {},
   "source": [
    "# 4. Making other features: Difference in Number of title and body"
   ]
  },
  {
   "cell_type": "code",
   "execution_count": 35,
   "metadata": {},
   "outputs": [],
   "source": [
    "data1['Num_words_body'] = data1['Body'].apply(lambda x:len(str(x).split())) #Number Of words in body\n",
    "data1['Num_words_title'] = data1['Title'].apply(lambda x:len(str(x).split())) #Number Of words in title\n",
    "data1['difference_in_words'] = abs(data1['Num_words_body'] - data1['Num_words_title'])"
   ]
  },
  {
   "cell_type": "code",
   "execution_count": 36,
   "metadata": {},
   "outputs": [],
   "source": [
    "xtrain_diff = data1[['difference_in_words']]"
   ]
  },
  {
   "cell_type": "code",
   "execution_count": 37,
   "metadata": {},
   "outputs": [],
   "source": [
    "test['Num_words_body'] = test['Body'].apply(lambda x:len(str(x).split())) #Number Of words in body\n",
    "test['Num_words_title'] = test['Title'].apply(lambda x:len(str(x).split())) #Number Of words in title\n",
    "test['difference_in_words'] = abs(test['Num_words_body'] - test['Num_words_title'])\n",
    "xtest_diff = test[['difference_in_words']]"
   ]
  },
  {
   "cell_type": "code",
   "execution_count": 38,
   "metadata": {},
   "outputs": [],
   "source": [
    "dataset = pd.concat(objs = [xtrain_diff, xtest_diff], axis = 0)\n",
    "train_objs_num = len(xtrain_diff)\n",
    "dataset_diff= pd.get_dummies(dataset, columns = ['difference_in_words'], sparse = True)\n",
    "xtrain_diff = dataset_diff[:train_objs_num]\n",
    "xtest_diff = dataset_diff[train_objs_num:]"
   ]
  },
  {
   "cell_type": "code",
   "execution_count": 39,
   "metadata": {},
   "outputs": [],
   "source": [
    "xtrain_diff, xvalid_diff, ytrain, yvalid = train_test_split(xtrain_diff.values, data1['Y'].values, \n",
    "                                                  stratify=data1['Y'].values, \n",
    "                                                  random_state=42, \n",
    "                                                  test_size=0.2, shuffle=True)"
   ]
  },
  {
   "cell_type": "code",
   "execution_count": 40,
   "metadata": {},
   "outputs": [],
   "source": [
    "X_train = sp.hstack([xtrain_tfv, xtrain_ctv, xtrain_diff])"
   ]
  },
  {
   "cell_type": "code",
   "execution_count": 41,
   "metadata": {},
   "outputs": [],
   "source": [
    "X_valid = sp.hstack([xvalid_tfv, xvalid_ctv, xvalid_diff])"
   ]
  },
  {
   "cell_type": "markdown",
   "metadata": {},
   "source": [
    "## Fit a simple Logistic regression Model "
   ]
  },
  {
   "cell_type": "code",
   "execution_count": 42,
   "metadata": {},
   "outputs": [
    {
     "data": {
      "text/plain": [
       "LogisticRegression(max_iter=1000)"
      ]
     },
     "execution_count": 42,
     "metadata": {},
     "output_type": "execute_result"
    }
   ],
   "source": [
    "clf = LogisticRegression(max_iter=1000)\n",
    "clf.fit(X_train, ytrain)"
   ]
  },
  {
   "cell_type": "code",
   "execution_count": 43,
   "metadata": {},
   "outputs": [],
   "source": [
    "predictions_diff = clf.predict(X_valid)"
   ]
  },
  {
   "cell_type": "code",
   "execution_count": 44,
   "metadata": {},
   "outputs": [
    {
     "name": "stdout",
     "output_type": "stream",
     "text": [
      "0.9191111111111111\n",
      "0.9191054446362458\n",
      "0.9191111111111111\n"
     ]
    }
   ],
   "source": [
    "diff_accuracy = accuracy_score(y_pred=predictions_diff, y_true=yvalid)\n",
    "diff_f1_macro = f1_score(y_pred=predictions_diff, y_true=yvalid, average=\"macro\")\n",
    "diff_f1_micro = f1_score(y_pred=predictions_diff, y_true=yvalid, average=\"micro\")\n",
    "print(diff_accuracy)\n",
    "print(diff_f1_macro)\n",
    "\n",
    "print(diff_f1_micro)"
   ]
  },
  {
   "cell_type": "markdown",
   "metadata": {},
   "source": [
    "## best model valid on test data"
   ]
  },
  {
   "cell_type": "code",
   "execution_count": 45,
   "metadata": {},
   "outputs": [],
   "source": [
    "X_test = sp.hstack([X_tfv, X_ctv, xtest_diff])\n"
   ]
  },
  {
   "cell_type": "code",
   "execution_count": 46,
   "metadata": {},
   "outputs": [],
   "source": [
    "predictions_final = clf.predict(X_test)"
   ]
  },
  {
   "cell_type": "code",
   "execution_count": 47,
   "metadata": {},
   "outputs": [
    {
     "name": "stdout",
     "output_type": "stream",
     "text": [
      "0.914\n",
      "0.9138969508767861\n",
      "0.914\n"
     ]
    }
   ],
   "source": [
    "final_accuracy = accuracy_score(y_pred=predictions_final, y_true=y_test)\n",
    "final_f1_macro = f1_score(y_pred=predictions_final, y_true=y_test, average=\"macro\")\n",
    "final_f1_micro = f1_score(y_pred=predictions_final, y_true=y_test, average=\"micro\")\n",
    "print(final_accuracy)\n",
    "print(final_f1_macro)\n",
    "print(final_f1_micro)"
   ]
  },
  {
   "cell_type": "markdown",
   "metadata": {},
   "source": [
    "# 5. Making fuzz features"
   ]
  },
  {
   "cell_type": "code",
   "execution_count": 48,
   "metadata": {},
   "outputs": [
    {
     "name": "stderr",
     "output_type": "stream",
     "text": [
      "/usr/local/lib/python3.8/dist-packages/fuzzywuzzy/fuzz.py:11: UserWarning: Using slow pure-python SequenceMatcher. Install python-Levenshtein to remove this warning\n",
      "  warnings.warn('Using slow pure-python SequenceMatcher. Install python-Levenshtein to remove this warning')\n"
     ]
    }
   ],
   "source": [
    "from fuzzywuzzy import fuzz\n",
    "data1['fuzz_partial_ratio'] = data1.apply(lambda x:fuzz.partial_ratio(str(x['Title']),str(x['Body'])), axis=1) "
   ]
  },
  {
   "cell_type": "code",
   "execution_count": 49,
   "metadata": {},
   "outputs": [],
   "source": [
    "test['fuzz_partial_ratio'] = test.apply(lambda x:fuzz.partial_ratio(str(x['Title']),str(x['Body'])), axis=1) "
   ]
  },
  {
   "cell_type": "code",
   "execution_count": 50,
   "metadata": {},
   "outputs": [],
   "source": [
    "xtrain_fuzz = data1[['fuzz_partial_ratio']]\n",
    "xtest_fuzz = test[['fuzz_partial_ratio']]"
   ]
  },
  {
   "cell_type": "code",
   "execution_count": 51,
   "metadata": {},
   "outputs": [],
   "source": [
    "dataset = pd.concat(objs = [xtrain_fuzz, xtest_fuzz], axis = 0)\n",
    "train_objs_num = len(xtrain_fuzz)\n",
    "dataset_fuzz = pd.get_dummies(dataset, columns = ['fuzz_partial_ratio'], sparse = True)\n",
    "xtrain_fuzz = dataset_fuzz[:train_objs_num]\n",
    "xtest_fuzz = dataset_fuzz[train_objs_num:]"
   ]
  },
  {
   "cell_type": "code",
   "execution_count": 52,
   "metadata": {},
   "outputs": [],
   "source": [
    "xtrain_fuzz, xvalid_fuzz, ytrain, yvalid = train_test_split(xtrain_fuzz.values, data1['Y'].values, \n",
    "                                                  stratify=data1['Y'].values, \n",
    "                                                  random_state=42, \n",
    "                                                  test_size=0.2, shuffle=True)"
   ]
  },
  {
   "cell_type": "code",
   "execution_count": 53,
   "metadata": {},
   "outputs": [
    {
     "data": {
      "text/plain": [
       "(36000, 290024)"
      ]
     },
     "execution_count": 53,
     "metadata": {},
     "output_type": "execute_result"
    }
   ],
   "source": [
    "X_train = sp.hstack([xtrain_tfv, xtrain_ctv, xtrain_fuzz])\n",
    "X_train.shape"
   ]
  },
  {
   "cell_type": "code",
   "execution_count": 54,
   "metadata": {},
   "outputs": [
    {
     "data": {
      "text/plain": [
       "(9000, 290024)"
      ]
     },
     "execution_count": 54,
     "metadata": {},
     "output_type": "execute_result"
    }
   ],
   "source": [
    "X_valid = sp.hstack([xvalid_tfv, xvalid_ctv, xvalid_fuzz])\n",
    "X_valid.shape"
   ]
  },
  {
   "cell_type": "markdown",
   "metadata": {},
   "source": [
    "## Fit a simple Logistic regression Model "
   ]
  },
  {
   "cell_type": "code",
   "execution_count": 55,
   "metadata": {},
   "outputs": [],
   "source": [
    "clf = LogisticRegression(max_iter=1000)\n",
    "clf.fit(X_train, ytrain)\n",
    "predictions_fuzz = clf.predict(X_valid)"
   ]
  },
  {
   "cell_type": "code",
   "execution_count": 56,
   "metadata": {},
   "outputs": [
    {
     "name": "stdout",
     "output_type": "stream",
     "text": [
      "0.9216666666666666\n",
      "0.9216118499341762\n",
      "0.9216666666666666\n"
     ]
    }
   ],
   "source": [
    "fuzz_accuracy = accuracy_score(y_pred=predictions_fuzz, y_true=yvalid)\n",
    "fuzz_f1_macro = f1_score(y_pred=predictions_fuzz, y_true=yvalid, average=\"macro\")\n",
    "fuzz_f1_micro = f1_score(y_pred=predictions_fuzz, y_true=yvalid, average=\"micro\")\n",
    "print(fuzz_accuracy)\n",
    "print(fuzz_f1_macro)\n",
    "print(fuzz_f1_micro)"
   ]
  },
  {
   "cell_type": "markdown",
   "metadata": {},
   "source": [
    "# best model valid on test data"
   ]
  },
  {
   "cell_type": "code",
   "execution_count": 57,
   "metadata": {},
   "outputs": [],
   "source": [
    "X_test = sp.hstack([X_tfv, X_ctv, xtest_fuzz])"
   ]
  },
  {
   "cell_type": "code",
   "execution_count": 58,
   "metadata": {},
   "outputs": [],
   "source": [
    "predictions_final = clf.predict(X_test)"
   ]
  },
  {
   "cell_type": "code",
   "execution_count": 59,
   "metadata": {},
   "outputs": [
    {
     "name": "stdout",
     "output_type": "stream",
     "text": [
      "0.9166\n",
      "0.9165577990048824\n",
      "0.9166\n"
     ]
    }
   ],
   "source": [
    "final_accuracy = accuracy_score(y_pred=predictions_final, y_true=y_test)\n",
    "final_f1_macro = f1_score(y_pred=predictions_final, y_true=y_test, average=\"macro\")\n",
    "final_f1_micro = f1_score(y_pred=predictions_final, y_true=y_test, average=\"micro\")\n",
    "print(final_accuracy)\n",
    "print(final_f1_macro)\n",
    "print(final_f1_micro)"
   ]
  },
  {
   "cell_type": "markdown",
   "metadata": {},
   "source": [
    "# 6. Making other features: common words"
   ]
  },
  {
   "cell_type": "code",
   "execution_count": 40,
   "metadata": {},
   "outputs": [],
   "source": [
    "data1['len_common_words'] = data1.apply(lambda x:len(set(str(x['Title']).split()).intersection(set(str(x['Body']).split()))),axis=1)"
   ]
  },
  {
   "cell_type": "code",
   "execution_count": 41,
   "metadata": {},
   "outputs": [],
   "source": [
    "test['len_common_words'] = test.apply(lambda x:len(set(str(x['Title']).split()).intersection(set(str(x['Body']).split()))),axis=1)"
   ]
  },
  {
   "cell_type": "code",
   "execution_count": 42,
   "metadata": {},
   "outputs": [],
   "source": [
    "xtrain_comm = data1[['len_common_words']]\n",
    "xtest_comm = test[['len_common_words']]"
   ]
  },
  {
   "cell_type": "code",
   "execution_count": 43,
   "metadata": {},
   "outputs": [],
   "source": [
    "dataset = pd.concat(objs = [xtrain_comm, xtest_comm], axis = 0)\n",
    "train_objs_num = len(xtrain_comm)\n",
    "dataset_comm = pd.get_dummies(dataset, columns = ['len_common_words'], sparse = True)\n",
    "xtrain_comm = dataset_comm[:train_objs_num]\n",
    "xtest_comm = dataset_comm[train_objs_num:]"
   ]
  },
  {
   "cell_type": "code",
   "execution_count": 44,
   "metadata": {},
   "outputs": [],
   "source": [
    "xtrain_comm, xvalid_comm, ytrain, yvalid = train_test_split(xtrain_comm.values, data1['Y'].values, \n",
    "                                                  stratify=data1['Y'].values, \n",
    "                                                  random_state=42, \n",
    "                                                  test_size=0.2, shuffle=True)"
   ]
  },
  {
   "cell_type": "code",
   "execution_count": 45,
   "metadata": {},
   "outputs": [
    {
     "data": {
      "text/plain": [
       "(36000, 289953)"
      ]
     },
     "execution_count": 45,
     "metadata": {},
     "output_type": "execute_result"
    }
   ],
   "source": [
    "X_train = sp.hstack([xtrain_tfv, xtrain_ctv, xtrain_comm])\n",
    "X_train.shape"
   ]
  },
  {
   "cell_type": "code",
   "execution_count": 46,
   "metadata": {},
   "outputs": [
    {
     "data": {
      "text/plain": [
       "(9000, 289953)"
      ]
     },
     "execution_count": 46,
     "metadata": {},
     "output_type": "execute_result"
    }
   ],
   "source": [
    "X_valid = sp.hstack([xvalid_tfv, xvalid_ctv, xvalid_comm])\n",
    "X_valid.shape"
   ]
  },
  {
   "cell_type": "markdown",
   "metadata": {},
   "source": [
    "## Fit a simple Logistic regression Model "
   ]
  },
  {
   "cell_type": "code",
   "execution_count": 47,
   "metadata": {},
   "outputs": [],
   "source": [
    "clf = LogisticRegression(max_iter=1000)\n",
    "clf.fit(X_train, ytrain)\n",
    "predictions_comm = clf.predict(X_valid)"
   ]
  },
  {
   "cell_type": "code",
   "execution_count": 48,
   "metadata": {},
   "outputs": [
    {
     "name": "stdout",
     "output_type": "stream",
     "text": [
      "0.9228888888888889\n",
      "0.9228401322349349\n",
      "0.9228888888888889\n"
     ]
    }
   ],
   "source": [
    "comm_accuracy = accuracy_score(y_pred=predictions_comm, y_true=yvalid)\n",
    "comm_f1_macro = f1_score(y_pred=predictions_comm, y_true=yvalid, average=\"macro\")\n",
    "comm_f1_micro = f1_score(y_pred=predictions_comm, y_true=yvalid, average=\"micro\")\n",
    "print(comm_accuracy)\n",
    "print(comm_f1_macro)\n",
    "print(comm_f1_micro)"
   ]
  },
  {
   "cell_type": "markdown",
   "metadata": {},
   "source": [
    "# best model valid on test data"
   ]
  },
  {
   "cell_type": "code",
   "execution_count": 49,
   "metadata": {},
   "outputs": [],
   "source": [
    "X_test = sp.hstack([X_tfv, X_ctv, xtest_comm])"
   ]
  },
  {
   "cell_type": "code",
   "execution_count": 50,
   "metadata": {},
   "outputs": [],
   "source": [
    "predictions_final = clf.predict(X_test)"
   ]
  },
  {
   "cell_type": "code",
   "execution_count": 51,
   "metadata": {},
   "outputs": [
    {
     "name": "stdout",
     "output_type": "stream",
     "text": [
      "0.917\n",
      "0.9169684330556297\n",
      "0.917\n"
     ]
    }
   ],
   "source": [
    "final_accuracy = accuracy_score(y_pred=predictions_final, y_true=y_test)\n",
    "final_f1_macro = f1_score(y_pred=predictions_final, y_true=y_test, average=\"macro\")\n",
    "final_f1_micro = f1_score(y_pred=predictions_final, y_true=y_test, average=\"micro\")\n",
    "print(final_accuracy)\n",
    "print(final_f1_macro)\n",
    "print(final_f1_micro)"
   ]
  },
  {
   "cell_type": "markdown",
   "metadata": {},
   "source": [
    "# 7. Making other features: Year"
   ]
  },
  {
   "cell_type": "code",
   "execution_count": 35,
   "metadata": {},
   "outputs": [],
   "source": [
    "test.CreationDate = test.CreationDate.astype('datetime64[ns]')\n",
    "test['year'] = test.CreationDate.dt.year"
   ]
  },
  {
   "cell_type": "code",
   "execution_count": 36,
   "metadata": {},
   "outputs": [],
   "source": [
    "xtrain_year = data1[['year']]\n",
    "xtest_year = test[['year']]"
   ]
  },
  {
   "cell_type": "code",
   "execution_count": 37,
   "metadata": {},
   "outputs": [],
   "source": [
    "dataset = pd.concat(objs = [xtrain_year, xtest_year], axis = 0)\n",
    "train_objs_num = len(xtrain_year)\n",
    "dataset_year = pd.get_dummies(dataset, columns = ['year'], sparse = True)\n",
    "xtrain_year = dataset_year[:train_objs_num]\n",
    "xtest_year = dataset_year[train_objs_num:]"
   ]
  },
  {
   "cell_type": "code",
   "execution_count": 38,
   "metadata": {},
   "outputs": [],
   "source": [
    "xtrain_year, xvalid_year, ytrain, yvalid = train_test_split(xtrain_year.values, data1['Y'].values, \n",
    "                                                  stratify=data1['Y'].values, \n",
    "                                                  random_state=42, \n",
    "                                                  test_size=0.2, shuffle=True)"
   ]
  },
  {
   "cell_type": "code",
   "execution_count": 52,
   "metadata": {},
   "outputs": [
    {
     "data": {
      "text/plain": [
       "(36000, 289958)"
      ]
     },
     "execution_count": 52,
     "metadata": {},
     "output_type": "execute_result"
    }
   ],
   "source": [
    "X_train = sp.hstack([xtrain_tfv, xtrain_ctv, xtrain_comm, xtrain_year])\n",
    "X_train.shape"
   ]
  },
  {
   "cell_type": "code",
   "execution_count": 53,
   "metadata": {},
   "outputs": [
    {
     "data": {
      "text/plain": [
       "(9000, 289958)"
      ]
     },
     "execution_count": 53,
     "metadata": {},
     "output_type": "execute_result"
    }
   ],
   "source": [
    "X_valid = sp.hstack([xvalid_tfv, xvalid_ctv, xvalid_comm, xvalid_year])\n",
    "X_valid.shape"
   ]
  },
  {
   "cell_type": "markdown",
   "metadata": {},
   "source": [
    "# Fit a simple Logistic regression Model"
   ]
  },
  {
   "cell_type": "code",
   "execution_count": 54,
   "metadata": {},
   "outputs": [],
   "source": [
    "clf = LogisticRegression(max_iter=1000)\n",
    "clf.fit(X_train, ytrain)\n",
    "predictions_year= clf.predict(X_valid)"
   ]
  },
  {
   "cell_type": "code",
   "execution_count": 55,
   "metadata": {},
   "outputs": [
    {
     "name": "stdout",
     "output_type": "stream",
     "text": [
      "0.9308888888888889\n",
      "0.9308435651315891\n",
      "0.9308888888888889\n"
     ]
    }
   ],
   "source": [
    "year_accuracy = accuracy_score(y_pred=predictions_year, y_true=yvalid)\n",
    "year_f1_macro = f1_score(y_pred=predictions_year, y_true=yvalid, average=\"macro\")\n",
    "year_f1_micro = f1_score(y_pred=predictions_year, y_true=yvalid, average=\"micro\")\n",
    "print(year_accuracy)\n",
    "print(year_f1_macro)\n",
    "print(year_f1_micro)"
   ]
  },
  {
   "cell_type": "markdown",
   "metadata": {},
   "source": [
    "# best model valid on test data"
   ]
  },
  {
   "cell_type": "code",
   "execution_count": 56,
   "metadata": {},
   "outputs": [],
   "source": [
    "X_test = sp.hstack([X_tfv, X_ctv, xtest_comm, xtest_year])"
   ]
  },
  {
   "cell_type": "code",
   "execution_count": 57,
   "metadata": {},
   "outputs": [],
   "source": [
    "predictions_final = clf.predict(X_test)"
   ]
  },
  {
   "cell_type": "code",
   "execution_count": 58,
   "metadata": {},
   "outputs": [
    {
     "name": "stdout",
     "output_type": "stream",
     "text": [
      "0.9264666666666667\n",
      "0.9263963317301763\n",
      "0.9264666666666667\n"
     ]
    }
   ],
   "source": [
    "final_accuracy = accuracy_score(y_pred=predictions_final, y_true=y_test)\n",
    "final_f1_macro = f1_score(y_pred=predictions_final, y_true=y_test, average=\"macro\")\n",
    "final_f1_micro = f1_score(y_pred=predictions_final, y_true=y_test, average=\"micro\")\n",
    "print(final_accuracy)\n",
    "print(final_f1_macro)\n",
    "print(final_f1_micro)"
   ]
  },
  {
   "cell_type": "code",
   "execution_count": 59,
   "metadata": {},
   "outputs": [],
   "source": [
    "def plot_metric(clf, testX, testY, name):\n",
    "    plot_confusion_matrix(clf, testX, testY)\n",
    "    plt.title(f\"Confusion Matrix [{name}]\")"
   ]
  },
  {
   "cell_type": "code",
   "execution_count": 60,
   "metadata": {},
   "outputs": [
    {
     "data": {
      "image/png": "[encoded data removed]",
      "text/plain": [
       "<Figure size 432x288 with 2 Axes>"
      ]
     },
     "metadata": {
      "needs_background": "light"
     },
     "output_type": "display_data"
    }
   ],
   "source": [
    "plot_metric(clf, X_test, y_test, 'logistic regression')"
   ]
  },
  {
   "cell_type": "markdown",
   "metadata": {},
   "source": [
    "# Fit XGBoost Model"
   ]
  },
  {
   "cell_type": "code",
   "execution_count": 85,
   "metadata": {},
   "outputs": [],
   "source": [
    "# XGBoost with cross-validation and grid search\n",
    "clf_xgb = XGBClassifier()\n",
    "param_grid = {\n",
    "    \"max_depth\": list(range(1, 3, 1)),\n",
    "    \"n_estimators\": list(range(10, 60, 10)),\n",
    "}\n",
    "scoring = {\"accuracy\": \"accuracy\"}"
   ]
  },
  {
   "cell_type": "code",
   "execution_count": 86,
   "metadata": {},
   "outputs": [
    {
     "name": "stdout",
     "output_type": "stream",
     "text": [
      "Fitting 5 folds for each of 10 candidates, totalling 50 fits\n"
     ]
    },
    {
     "name": "stderr",
     "output_type": "stream",
     "text": [
      "/usr/local/lib/python3.8/dist-packages/joblib/externals/loky/process_executor.py:688: UserWarning: A worker stopped while some jobs were given to the executor. This can be caused by a too short worker timeout or by a memory leak.\n",
      "  warnings.warn(\n",
      "/usr/local/lib/python3.8/dist-packages/xgboost/sklearn.py:888: UserWarning: The use of label encoder in XGBClassifier is deprecated and will be removed in a future release. To remove this warning, do the following: 1) Pass option use_label_encoder=False when constructing XGBClassifier object; and 2) Encode your labels (y) as integers starting with 0, i.e. 0, 1, 2, ..., [num_class - 1].\n",
      "  warnings.warn(label_encoder_deprecation_msg, UserWarning)\n"
     ]
    },
    {
     "name": "stdout",
     "output_type": "stream",
     "text": [
      "[06:32:24] WARNING: ../src/learner.cc:1061: Starting in XGBoost 1.3.0, the default evaluation metric used with the objective 'multi:softprob' was changed from 'merror' to 'mlogloss'. Explicitly set eval_metric if you'd like to restore the old behavior.\n"
     ]
    }
   ],
   "source": [
    "clf_cv = GridSearchCV(\n",
    "    clf_xgb, param_grid, scoring=scoring, cv=5, n_jobs=8, refit='accuracy', verbose=5\n",
    ").fit(X_train, ytrain)"
   ]
  },
  {
   "cell_type": "code",
   "execution_count": 87,
   "metadata": {},
   "outputs": [
    {
     "name": "stdout",
     "output_type": "stream",
     "text": [
      "{'max_depth': 2, 'n_estimators': 50}\n",
      "0.8948888888888888\n"
     ]
    }
   ],
   "source": [
    "print(clf_cv.best_params_)\n",
    "print(clf_cv.best_score_)"
   ]
  },
  {
   "cell_type": "code",
   "execution_count": 88,
   "metadata": {},
   "outputs": [
    {
     "name": "stdout",
     "output_type": "stream",
     "text": [
      "[06:32:54] WARNING: ../src/learner.cc:1061: Starting in XGBoost 1.3.0, the default evaluation metric used with the objective 'multi:softprob' was changed from 'merror' to 'mlogloss'. Explicitly set eval_metric if you'd like to restore the old behavior.\n"
     ]
    }
   ],
   "source": [
    "clf_xgb = XGBClassifier(n_estimators = 50, max_depth = 2).fit(X_train, ytrain)"
   ]
  },
  {
   "cell_type": "code",
   "execution_count": 89,
   "metadata": {},
   "outputs": [],
   "source": [
    "predictions_xgb= clf_xgb.predict(X_valid)"
   ]
  },
  {
   "cell_type": "code",
   "execution_count": 90,
   "metadata": {},
   "outputs": [
    {
     "name": "stdout",
     "output_type": "stream",
     "text": [
      "0.8916666666666667\n",
      "0.8919664088574232\n",
      "0.8916666666666667\n"
     ]
    }
   ],
   "source": [
    "xgb_accuracy = accuracy_score(y_pred=predictions_xgb, y_true=yvalid)\n",
    "xgb_f1_macro = f1_score(y_pred=predictions_xgb, y_true=yvalid, average=\"macro\")\n",
    "xgb_f1_micro = f1_score(y_pred=predictions_xgb, y_true=yvalid, average=\"micro\")\n",
    "print(xgb_accuracy)\n",
    "print(xgb_f1_macro)\n",
    "print(xgb_f1_micro)"
   ]
  },
  {
   "cell_type": "markdown",
   "metadata": {},
   "source": [
    "# Fit KNN  Model"
   ]
  },
  {
   "cell_type": "code",
   "execution_count": 91,
   "metadata": {},
   "outputs": [
    {
     "data": {
      "text/plain": [
       "KNeighborsClassifier()"
      ]
     },
     "execution_count": 91,
     "metadata": {},
     "output_type": "execute_result"
    }
   ],
   "source": [
    "clf_knn = KNeighborsClassifier()\n",
    "clf_knn.fit(X_train, ytrain)"
   ]
  },
  {
   "cell_type": "code",
   "execution_count": 92,
   "metadata": {},
   "outputs": [],
   "source": [
    "predictions_knn= clf_knn.predict(X_valid)"
   ]
  },
  {
   "cell_type": "code",
   "execution_count": 93,
   "metadata": {},
   "outputs": [
    {
     "name": "stdout",
     "output_type": "stream",
     "text": [
      "0.6077777777777778\n",
      "0.6117845445861098\n",
      "0.6077777777777778\n"
     ]
    }
   ],
   "source": [
    "knn_accuracy = accuracy_score(y_pred=predictions_knn, y_true=yvalid)\n",
    "knn_f1_macro = f1_score(y_pred=predictions_knn, y_true=yvalid, average=\"macro\")\n",
    "knn_f1_micro = f1_score(y_pred=predictions_knn, y_true=yvalid, average=\"micro\")\n",
    "print(knn_accuracy)\n",
    "print(knn_f1_macro)\n",
    "print(knn_f1_micro)"
   ]
  },
  {
   "cell_type": "markdown",
   "metadata": {},
   "source": [
    "# Fit SVM Model"
   ]
  },
  {
   "cell_type": "code",
   "execution_count": 94,
   "metadata": {},
   "outputs": [],
   "source": [
    "svd = decomposition.TruncatedSVD(n_components=180)"
   ]
  },
  {
   "cell_type": "code",
   "execution_count": 95,
   "metadata": {},
   "outputs": [],
   "source": [
    "svd = decomposition.TruncatedSVD(n_components=180)\n",
    "svd.fit(X_train)\n",
    "xtrain_svd = svd.transform(X_train)\n",
    "xvalid_svd = svd.transform(X_valid)\n"
   ]
  },
  {
   "cell_type": "code",
   "execution_count": 96,
   "metadata": {},
   "outputs": [],
   "source": [
    "scl = preprocessing.StandardScaler()\n",
    "scl.fit(xtrain_svd)\n",
    "xtrain_svd_scl = scl.transform(xtrain_svd)\n",
    "xvalid_svd_scl = scl.transform(xvalid_svd)"
   ]
  },
  {
   "cell_type": "code",
   "execution_count": 97,
   "metadata": {},
   "outputs": [
    {
     "data": {
      "text/plain": [
       "SVC()"
      ]
     },
     "execution_count": 97,
     "metadata": {},
     "output_type": "execute_result"
    }
   ],
   "source": [
    "clf_svm = SVC(C=1.0) \n",
    "clf_svm.fit(xtrain_svd_scl, ytrain)"
   ]
  },
  {
   "cell_type": "code",
   "execution_count": 98,
   "metadata": {},
   "outputs": [],
   "source": [
    "predictions_svm = clf_svm.predict(xvalid_svd_scl)"
   ]
  },
  {
   "cell_type": "code",
   "execution_count": 99,
   "metadata": {},
   "outputs": [
    {
     "name": "stdout",
     "output_type": "stream",
     "text": [
      "0.7032222222222222\n",
      "0.7025888024145495\n",
      "0.7032222222222222\n"
     ]
    }
   ],
   "source": [
    "svm_accuracy = accuracy_score(y_pred=predictions_svm, y_true=yvalid)\n",
    "svm_f1_macro = f1_score(y_pred=predictions_svm, y_true=yvalid, average=\"macro\")\n",
    "svm_f1_micro = f1_score(y_pred=predictions_svm, y_true=yvalid, average=\"micro\")\n",
    "print(svm_accuracy)\n",
    "print(svm_f1_macro)\n",
    "print(svm_f1_micro)"
   ]
  },
  {
   "cell_type": "markdown",
   "metadata": {},
   "source": [
    "# Fit NB Model"
   ]
  },
  {
   "cell_type": "code",
   "execution_count": 100,
   "metadata": {},
   "outputs": [
    {
     "data": {
      "text/plain": [
       "MultinomialNB()"
      ]
     },
     "execution_count": 100,
     "metadata": {},
     "output_type": "execute_result"
    }
   ],
   "source": [
    "clf_nb = MultinomialNB()\n",
    "clf_nb.fit(X_train, ytrain)"
   ]
  },
  {
   "cell_type": "code",
   "execution_count": 101,
   "metadata": {},
   "outputs": [],
   "source": [
    "predictions_nb = clf_nb.predict(X_valid)"
   ]
  },
  {
   "cell_type": "code",
   "execution_count": 102,
   "metadata": {},
   "outputs": [
    {
     "name": "stdout",
     "output_type": "stream",
     "text": [
      "0.7978888888888889\n",
      "0.7980988989296421\n",
      "0.7978888888888888\n"
     ]
    }
   ],
   "source": [
    "nb_accuracy = accuracy_score(y_pred=predictions_nb, y_true=yvalid)\n",
    "nb_f1_macro = f1_score(y_pred=predictions_nb, y_true=yvalid, average=\"macro\")\n",
    "nb_f1_micro = f1_score(y_pred=predictions_nb, y_true=yvalid, average=\"micro\")\n",
    "print(nb_accuracy)\n",
    "print(nb_f1_macro)\n",
    "print(nb_f1_micro)"
   ]
  },
  {
   "cell_type": "markdown",
   "metadata": {},
   "source": [
    "# 8. Word2Vec with the original dataset\n"
   ]
  },
  {
   "cell_type": "code",
   "execution_count": 103,
   "metadata": {},
   "outputs": [],
   "source": [
    "from gensim.test.utils import datapath, get_tmpfile\n",
    "from gensim.models import KeyedVectors\n",
    "from gensim.scripts.glove2word2vec import glove2word2vec"
   ]
  },
  {
   "cell_type": "code",
   "execution_count": 104,
   "metadata": {},
   "outputs": [],
   "source": [
    "from collections import defaultdict\n",
    "from math import log, sqrt\n",
    "import numpy as np\n",
    "from numpy import linalg as LA\n",
    "from gensim.models import Word2Vec, LdaModel\n",
    "from gensim.corpora import Dictionary"
   ]
  },
  {
   "cell_type": "code",
   "execution_count": 105,
   "metadata": {},
   "outputs": [
    {
     "name": "stderr",
     "output_type": "stream",
     "text": [
      "[nltk_data] Downloading package punkt to /home/jovyan/nltk_data...\n",
      "[nltk_data]   Package punkt is already up-to-date!\n",
      "[nltk_data] Downloading package stopwords to /home/jovyan/nltk_data...\n",
      "[nltk_data]   Package stopwords is already up-to-date!\n"
     ]
    }
   ],
   "source": [
    "import nltk\n",
    "\n",
    "nltk.download('punkt') \n",
    "nltk.download('stopwords') \n",
    "\n",
    "from nltk.corpus import stopwords\n",
    "stop = set(stopwords.words('english'))\n",
    "\n",
    "from nltk.tokenize import word_tokenize\n",
    "from nltk.tokenize import sent_tokenize\n",
    "\n",
    "# create text pre-processing founction\n",
    "def pre_processing(doc):\n",
    "    # create initial token list\n",
    "    tokens = []\n",
    "    # step 1 : get sentence\n",
    "    sentences = sent_tokenize(doc)\n",
    "    # step 2 :  get the word from each stence\n",
    "    for sent in sentences:\n",
    "        words = word_tokenize(sent)      \n",
    "    # step 3 :  get the lower words and remove 'stop word'\n",
    "    words = [w.lower() for w in words if w not in stop]\n",
    "    # step 4 :  get tokens\n",
    "    tokens += words\n",
    "    # step 5: remove empty tokens\n",
    "    import re\n",
    "    tokens = [re.sub(r'[^a-zA-Z]', '', token) for token in tokens]\n",
    "    return tokens"
   ]
  },
  {
   "cell_type": "code",
   "execution_count": 106,
   "metadata": {},
   "outputs": [],
   "source": [
    "xtrain_bwt = data2['Body_with_title']\n",
    "test['Body_with_title'] = test['Title'] + \" \" + test['Body']\n",
    "xtest_bwt = test['Body_with_title']\n",
    "dataset = pd.concat([xtrain_bwt,xtest_bwt], axis = 0)"
   ]
  },
  {
   "cell_type": "code",
   "execution_count": 107,
   "metadata": {},
   "outputs": [],
   "source": [
    "corpus= list(dataset.apply(pre_processing))\n",
    "corpus_train = list(xtrain_bwt.apply(pre_processing))\n",
    "corpus_test = list(xtest_bwt.apply(pre_processing))"
   ]
  },
  {
   "cell_type": "code",
   "execution_count": 108,
   "metadata": {},
   "outputs": [],
   "source": [
    "from gensim.models import word2vec\n",
    "w2v = word2vec.Word2Vec(corpus, size=100, window=5)"
   ]
  },
  {
   "cell_type": "code",
   "execution_count": 109,
   "metadata": {},
   "outputs": [],
   "source": [
    "def doc2vec_1(doc, model):\n",
    "    vecs = []\n",
    "    for token in doc:\n",
    "        try:\n",
    "            vecs.append(model[token])\n",
    "        except KeyError:\n",
    "            pass\n",
    "    if len(vecs) == 0:\n",
    "        return np.zeros(100)\n",
    "    else:\n",
    "        return np.array(np.mean(vecs, axis=0))"
   ]
  },
  {
   "cell_type": "code",
   "execution_count": 110,
   "metadata": {},
   "outputs": [
    {
     "name": "stderr",
     "output_type": "stream",
     "text": [
      "<ipython-input-109-69009ffc9ab6>:5: DeprecationWarning: Call to deprecated `__getitem__` (Method will be removed in 4.0.0, use self.wv.__getitem__() instead).\n",
      "  vecs.append(model[token])\n"
     ]
    }
   ],
   "source": [
    "X_train = []\n",
    "for doc in corpus_train:\n",
    "    X_train.append(doc2vec_1(doc, w2v))"
   ]
  },
  {
   "cell_type": "code",
   "execution_count": 111,
   "metadata": {},
   "outputs": [
    {
     "name": "stderr",
     "output_type": "stream",
     "text": [
      "<ipython-input-109-69009ffc9ab6>:5: DeprecationWarning: Call to deprecated `__getitem__` (Method will be removed in 4.0.0, use self.wv.__getitem__() instead).\n",
      "  vecs.append(model[token])\n"
     ]
    }
   ],
   "source": [
    "X_test = []\n",
    "for doc in corpus_test:\n",
    "    X_test.append(doc2vec_1(doc, w2v))"
   ]
  },
  {
   "cell_type": "code",
   "execution_count": 112,
   "metadata": {},
   "outputs": [],
   "source": [
    "xtrain_w2v, xvalid_w2v, ytrain, yvalid = train_test_split(X_train, data1['Y'].values, \n",
    "                                                  stratify=data1['Y'].values, \n",
    "                                                  random_state=42, \n",
    "                                                  test_size=0.2, shuffle=True)"
   ]
  },
  {
   "cell_type": "markdown",
   "metadata": {},
   "source": [
    "# Fit a simple Logistic regression Model"
   ]
  },
  {
   "cell_type": "code",
   "execution_count": 113,
   "metadata": {},
   "outputs": [],
   "source": [
    "clf.fit(xtrain_w2v, ytrain)\n",
    "predictions_w2v= clf.predict(xvalid_w2v)"
   ]
  },
  {
   "cell_type": "code",
   "execution_count": 114,
   "metadata": {},
   "outputs": [
    {
     "name": "stdout",
     "output_type": "stream",
     "text": [
      "0.7715555555555556\n",
      "0.7695462006071764\n",
      "0.7715555555555556\n"
     ]
    }
   ],
   "source": [
    "w2v_accuracy = accuracy_score(y_pred=predictions_w2v, y_true=yvalid)\n",
    "w2v_f1_macro = f1_score(y_pred=predictions_w2v, y_true=yvalid, average=\"macro\")\n",
    "w2v_f1_micro = f1_score(y_pred=predictions_w2v, y_true=yvalid, average=\"micro\")\n",
    "print(w2v_accuracy)\n",
    "print(w2v_f1_macro)\n",
    "print(w2v_f1_micro)"
   ]
  },
  {
   "cell_type": "markdown",
   "metadata": {},
   "source": [
    "# best model valid on test data"
   ]
  },
  {
   "cell_type": "code",
   "execution_count": 115,
   "metadata": {},
   "outputs": [],
   "source": [
    "predictions_final = clf.predict(X_test)"
   ]
  },
  {
   "cell_type": "code",
   "execution_count": 116,
   "metadata": {},
   "outputs": [
    {
     "name": "stdout",
     "output_type": "stream",
     "text": [
      "0.7655333333333333\n",
      "0.7637028818172665\n",
      "0.7655333333333333\n"
     ]
    }
   ],
   "source": [
    "final_accuracy = accuracy_score(y_pred=predictions_final, y_true=y_test)\n",
    "final_f1_macro = f1_score(y_pred=predictions_final, y_true=y_test, average=\"macro\")\n",
    "final_f1_micro = f1_score(y_pred=predictions_final, y_true=y_test, average=\"micro\")\n",
    "print(final_accuracy)\n",
    "print(final_f1_macro)\n",
    "print(final_f1_micro)"
   ]
  },
  {
   "cell_type": "markdown",
   "metadata": {},
   "source": [
    "# 9. Word2Vec with Glove"
   ]
  },
  {
   "cell_type": "code",
   "execution_count": 117,
   "metadata": {},
   "outputs": [],
   "source": [
    "from gensim.test.utils import datapath, get_tmpfile\n",
    "from gensim.models import KeyedVectors\n",
    "from gensim.scripts.glove2word2vec import glove2word2vec\n",
    "\n",
    "glove_file = 'glove.6B.100d.txt'\n",
    "tmp_file = get_tmpfile(\"test_word2vec.txt\")\n",
    "\n",
    "_ = glove2word2vec(glove_file, tmp_file)\n",
    "\n",
    "glove = KeyedVectors.load_word2vec_format(tmp_file, binary = False)"
   ]
  },
  {
   "cell_type": "code",
   "execution_count": 118,
   "metadata": {},
   "outputs": [],
   "source": [
    "X_train = []\n",
    "for doc in corpus_train:\n",
    "    X_train.append(doc2vec_1(doc, glove))\n"
   ]
  },
  {
   "cell_type": "code",
   "execution_count": 119,
   "metadata": {},
   "outputs": [],
   "source": [
    "X_test = []\n",
    "for doc in corpus_test:\n",
    "    X_test.append(doc2vec_1(doc, glove))"
   ]
  },
  {
   "cell_type": "code",
   "execution_count": 120,
   "metadata": {},
   "outputs": [],
   "source": [
    "xtrain_glove, xvalid_glove, ytrain, yvalid = train_test_split(X_train, data1['Y'].values, \n",
    "                                                  stratify=data1['Y'].values, \n",
    "                                                  random_state=42, \n",
    "                                                  test_size=0.2, shuffle=True)"
   ]
  },
  {
   "cell_type": "markdown",
   "metadata": {},
   "source": [
    "# Fit a simple Logistic regression Model"
   ]
  },
  {
   "cell_type": "code",
   "execution_count": 121,
   "metadata": {},
   "outputs": [],
   "source": [
    "clf.fit(xtrain_glove, ytrain)\n",
    "predictions_glove= clf.predict(xvalid_glove)"
   ]
  },
  {
   "cell_type": "code",
   "execution_count": 122,
   "metadata": {},
   "outputs": [
    {
     "name": "stdout",
     "output_type": "stream",
     "text": [
      "0.7273333333333334\n",
      "0.7244066938672207\n",
      "0.7273333333333333\n"
     ]
    }
   ],
   "source": [
    "glove_accuracy = accuracy_score(y_pred=predictions_glove, y_true=yvalid)\n",
    "glove_f1_macro = f1_score(y_pred=predictions_glove, y_true=yvalid, average=\"macro\")\n",
    "glove_f1_micro = f1_score(y_pred=predictions_glove, y_true=yvalid, average=\"micro\")\n",
    "print(glove_accuracy)\n",
    "print(glove_f1_macro)\n",
    "print(glove_f1_micro)"
   ]
  },
  {
   "cell_type": "markdown",
   "metadata": {},
   "source": [
    "# best model valid on test data"
   ]
  },
  {
   "cell_type": "code",
   "execution_count": 123,
   "metadata": {},
   "outputs": [],
   "source": [
    "predictions_final = clf.predict(X_test)"
   ]
  },
  {
   "cell_type": "code",
   "execution_count": 124,
   "metadata": {},
   "outputs": [
    {
     "name": "stdout",
     "output_type": "stream",
     "text": [
      "0.7192\n",
      "0.7160016905531609\n",
      "0.7192\n"
     ]
    }
   ],
   "source": [
    "final_accuracy = accuracy_score(y_pred=predictions_final, y_true=y_test)\n",
    "final_f1_macro = f1_score(y_pred=predictions_final, y_true=y_test, average=\"macro\")\n",
    "final_f1_micro = f1_score(y_pred=predictions_final, y_true=y_test, average=\"micro\")\n",
    "print(final_accuracy)\n",
    "print(final_f1_macro)\n",
    "print(final_f1_micro)"
   ]
  }
 ],
 "metadata": {
  "kernelspec": {
   "display_name": "Python 3",
   "language": "python",
   "name": "python3"
  },
  "language_info": {
   "codemirror_mode": {
    "name": "ipython",
    "version": 3
   },
   "file_extension": ".py",
   "mimetype": "text/x-python",
   "name": "python",
   "nbconvert_exporter": "python",
   "pygments_lexer": "ipython3",
   "version": "3.8.5"
  }
 },
 "nbformat": 4,
 "nbformat_minor": 4
}
